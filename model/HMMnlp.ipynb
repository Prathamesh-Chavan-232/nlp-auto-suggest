{
 "cells": [
  {
   "attachments": {},
   "cell_type": "markdown",
   "metadata": {},
   "source": [
    "HIDDEN MARKOV MODEL"
   ]
  },
  {
   "cell_type": "code",
   "execution_count": 46,
   "metadata": {},
   "outputs": [],
   "source": [
    "# with open('text.txt', 'r') as f:\n",
    "#     text = f.read()\n",
    "data = '''Dear Mr. Charles,\n",
    "\n",
    "I am excited to apply for the Accountant position at Koneko—a company that has been on my radar for some time. As a highly skilled accountant with \n",
    "experience working at Credio, I believe I would be an excellent fit for the role. \n",
    "\n",
    "Throughout my career, I have developed a strong skill set in financial analysis, budgeting &  forecasting, and report preparation. I led the \n",
    "implementation of a new accounting system at Credio, resulting in a 20% increase in efficiency.Additionally, I have experience managing complex \n",
    "financial projects and collaborating with cross-functional teams to achieve business goals.\n",
    "\n",
    "I am motivated to join Koneko because it is an industry leader that significantly commits to innovation. With my experience and skill set, \n",
    "including expertise in tax compliance and financial statement analysis, I believe I can offer valuable contributions to your team. Furthermore,\n",
    "Koneko's focus on sustainability aligns with my personal values, making me even more enthusiastic about the opportunity to work with your organization.\n",
    "\n",
    "I would welcome the opportunity to discuss how my skills and experience could further contribute to Koneko's success.. Please let me know if any other \n",
    "information is required from me or if we can schedule a meeting at your convenience. \n",
    "\n",
    "Sincerely,\n",
    "Carin McDonald\n",
    "\n",
    "\n",
    "\n",
    "\n",
    "\n",
    "Dear Ms. Ortiz,\n",
    "\n",
    "As a highly skilled Accountant, I read your posting for a new Accountant with interest. My experience aligns well with the qualifications you are seeking at Ortiz and Miller Accounting, in particular my role as Senior Accountant, and I am certain I would make a valuable addition to your organization.\n",
    "With more than 10 years’ experience as an Accountant, I am adept in budget forecasting, variance analysis, and reporting. Moreover, while my on-the-job experience has afforded me a well-rounded skill set, including first-rate organizational and communication skills, I excel at:\n",
    "Streamlining processes for improved efficiency and reduced waste.\n",
    "Project future trends with proficient and proactive analysis.\n",
    "Resolving discrepancies promptly and developing ways to prevent future issues.\n",
    "Preparing for audits and working directly with auditors to facilitate process.\n",
    "\n",
    "In addition to my experience and personal qualities, I have a solid educational foundation and a passion for accounting. I am extremely enthusiastic about Ortiz and Miller’s focus on corporate efficiency and would welcome the opportunity to contribute to your continued growth.\n",
    "Please review my attached resume for additional details regarding my expertise and career achievements. I will follow up to request an appointment to discuss how my experience and background meets your needs.\n",
    "Thank you for your time and consideration.\n",
    "\n",
    "Sincerely,\n",
    "Ethan Brown\n",
    "\n",
    "\n",
    "\n",
    "\n",
    "\n",
    "Dear Mr. Bob Gray,\n",
    "\n",
    "As a longtime customer of Lansing’s peerless cloud offerings, I was excited to see the opening for a senior accounting manager. With my experience as an award-winning tax accountant for APC, I know I can use my skill set and knowledge to become a valuable member of the Lansing finance department and team.\n",
    "\n",
    "In my current position with APC, I’ve had many responsibilities and achievements that would serve me well as the senior accounting manager at Lansing. APC offers similar services available to their clients, and this would make it a much shorter learning curve than usual. On top of that, my cost reduction projects there have always been successful winners, and I’m sure that I could garner similar results at Lansing.\n",
    "\n",
    "Obtaining the senior accounting manager position at Lansing would be a dream come true. I’ve long been an admirer of your products, and there’s no company that I’d rather work for. I know, should I be honored with being given this position, I’d be the envy of my peers!\n",
    "\n",
    "I would welcome the chance to discuss your current finance and accounting objectives and show you how my successes at APC can translate into cost savings at Lansing.\n",
    "\n",
    "Sincerely,\n",
    "Bob Gray\n",
    "\n",
    "\n",
    "'''"
   ]
  },
  {
   "cell_type": "code",
   "execution_count": 47,
   "metadata": {},
   "outputs": [],
   "source": [
    "#HMM\n",
    "import pandas as pd\n",
    "import numpy as np\n",
    "import nltk\n",
    "import string\n",
    "import matplotlib.pyplot as plt\n",
    "from nltk.corpus import stopwords\n",
    "from nltk import word_tokenize\n",
    "from gensim.models import Word2Vec as w2v\n",
    "from sklearn.decomposition import PCA\n",
    "import re"
   ]
  },
  {
   "cell_type": "code",
   "execution_count": 48,
   "metadata": {},
   "outputs": [],
   "source": [
    "PATH = 'D:/SEM6/01NLP/PROJECT/NLP2.txt'\n",
    "\n",
    "lines = []\n",
    "\n",
    "with open(PATH, 'r') as f:\n",
    "    for l in f:\n",
    "        lines.append(l)"
   ]
  },
  {
   "cell_type": "code",
   "execution_count": 49,
   "metadata": {},
   "outputs": [
    {
     "name": "stdout",
     "output_type": "stream",
     "text": [
      "['Dear', 'Mr.', 'Charles,', 'I', 'am', 'excited', 'to', 'apply', 'for', 'the', 'Accountant', 'position', 'at', 'Koneko—a', 'company', 'that', 'has', 'been', 'on', 'my', 'radar', 'for', 'some', 'time.', 'As', 'a', 'highly', 'skilled', 'accountant', 'with', 'experience', 'working', 'at', 'Credio,', 'I', 'believe', 'I', 'would', 'be', 'an', 'excellent', 'fit', 'for', 'the', 'role.', 'Throughout', 'my', 'career,', 'I', 'have', 'developed', 'a', 'strong', 'skill', 'set', 'in', 'financial', 'analysis,', 'budgeting', '&', 'forecasting,', 'and', 'report', 'preparation.', 'I', 'led', 'the', 'implementation', 'of', 'a', 'new', 'accounting', 'system', 'at', 'Credio,', 'resulting', 'in', 'a', '20%', 'increase', 'in', 'efficiency.Additionally,', 'I', 'have', 'experience', 'managing', 'complex', 'financial', 'projects', 'and', 'collaborating', 'with', 'cross-functional', 'teams', 'to', 'achieve', 'business', 'goals.', 'I', 'am', 'motivated', 'to', 'join', 'Koneko', 'because', 'it', 'is', 'an', 'industry', 'leader', 'that', 'significantly', 'commits', 'to', 'innovation.', 'With', 'my', 'experience', 'and', 'skill', 'set,', 'including', 'expertise', 'in', 'tax', 'compliance', 'and', 'financial', 'statement', 'analysis,', 'I', 'believe', 'I', 'can', 'offer', 'valuable', 'contributions', 'to', 'your', 'team.', 'Furthermore,', \"Koneko's\", 'focus', 'on', 'sustainability', 'aligns', 'with', 'my', 'personal', 'values,', 'making', 'me', 'even', 'more', 'enthusiastic', 'about', 'the', 'opportunity', 'to', 'work', 'with', 'your', 'organization.', 'I', 'would', 'welcome', 'the', 'opportunity', 'to', 'discuss', 'how', 'my', 'skills', 'and', 'experience', 'could', 'further', 'contribute', 'to', \"Koneko's\", 'success..', 'Please', 'let', 'me', 'know', 'if', 'any', 'other', 'information', 'is', 'required', 'from', 'me', 'or', 'if', 'we', 'can', 'schedule', 'a', 'meeting', 'at', 'your', 'convenience.', 'Sincerely,', 'Carin', 'McDonald', 'Dear', 'Ms.', 'Ortiz,', 'As', 'a', 'highly', 'skilled', 'Accountant,', 'I', 'read', 'your', 'posting', 'for', 'a', 'new', 'Accountant', 'with', 'interest.', 'My', 'experience', 'aligns', 'well', 'with', 'the', 'qualifications', 'you', 'are', 'seeking', 'at', 'Ortiz', 'and', 'Miller', 'Accounting,', 'in', 'particular', 'my', 'role', 'as', 'Senior', 'Accountant,', 'and', 'I', 'am', 'certain', 'I', 'would', 'make', 'a', 'valuable', 'addition', 'to', 'your', 'organization.', 'With', 'more', 'than', '10', 'years’', 'experience', 'as', 'an', 'Accountant,', 'I', 'am', 'adept', 'in', 'budget', 'forecasting,', 'variance', 'analysis,', 'and', 'reporting.', 'Moreover,', 'while', 'my', 'on-the-job', 'experience', 'has', 'afforded', 'me', 'a', 'well-rounded', 'skill', 'set,', 'including', 'first-rate', 'organizational', 'and', 'communication', 'skills,', 'I', 'excel', 'at:', 'Streamlining', 'processes', 'for', 'improved', 'efficiency', 'and', 'reduced', 'waste.', 'Project', 'future', 'trends', 'with', 'proficient', 'and', 'proactive', 'analysis.', 'Resolving', 'discrepancies', 'promptly', 'and', 'developing', 'ways', 'to', 'prevent', 'future', 'issues.', 'Preparing', 'for', 'audits', 'and', 'working', 'directly', 'with', 'auditors', 'to', 'facilitate', 'process.', 'In', 'addition', 'to', 'my', 'experience', 'and', 'personal', 'qualities,', 'I', 'have', 'a', 'solid', 'educational', 'foundation', 'and', 'a', 'passion', 'for', 'accounting.', 'I', 'am', 'extremely', 'enthusiastic', 'about', 'Ortiz', 'and', 'Miller’s', 'focus', 'on', 'corporate', 'efficiency', 'and', 'would', 'welcome', 'the', 'opportunity', 'to', 'contribute', 'to', 'your', 'continued', 'growth.', 'Please', 'review', 'my', 'attached', 'resume', 'for', 'additional', 'details', 'regarding', 'my', 'expertise', 'and', 'career', 'achievements.', 'I', 'will', 'follow', 'up', 'to', 'request', 'an', 'appointment', 'to', 'discuss', 'how', 'my', 'experience', 'and', 'background', 'meets', 'your', 'needs.', 'Thank', 'you', 'for', 'your', 'time', 'and', 'consideration.', 'Sincerely,', 'Ethan', 'Brown', 'Dear', 'Mr.', 'Bob', 'Gray,', 'As', 'a', 'longtime', 'customer', 'of', 'Lansing’s', 'peerless', 'cloud', 'offerings,', 'I', 'was', 'excited', 'to', 'see', 'the', 'opening', 'for', 'a', 'senior', 'accounting', 'manager.', 'With', 'my', 'experience', 'as', 'an', 'award-winning', 'tax', 'accountant', 'for', 'APC,', 'I', 'know', 'I', 'can', 'use', 'my', 'skill', 'set', 'and', 'knowledge', 'to', 'become', 'a', 'valuable', 'member', 'of', 'the', 'Lansing', 'finance', 'department', 'and', 'team.', 'In', 'my', 'current', 'position', 'with', 'APC,', 'I’ve', 'had', 'many', 'responsibilities', 'and', 'achievements', 'that', 'would', 'serve', 'me', 'well', 'as', 'the', 'senior', 'accounting', 'manager', 'at', 'Lansing.', 'APC', 'offers', 'similar', 'services', 'available', 'to', 'their', 'clients,', 'and', 'this', 'would', 'make', 'it', 'a', 'much', 'shorter', 'learning', 'curve', 'than', 'usual.', 'On', 'top', 'of', 'that,', 'my', 'cost', 'reduction', 'projects', 'there', 'have', 'always', 'been', 'successful', 'winners,', 'and', 'I’m', 'sure', 'that', 'I', 'could', 'garner', 'similar', 'results', 'at', 'Lansing.', 'Obtaining', 'the', 'senior', 'accounting', 'manager', 'position', 'at', 'Lansing', 'would', 'be', 'a', 'dream', 'come', 'true.', 'I’ve', 'long', 'been', 'an', 'admirer', 'of', 'your', 'products,', 'and', 'there’s', 'no', 'company', 'that', 'I’d', 'rather', 'work', 'for.', 'I', 'know,', 'should', 'I', 'be', 'honored', 'with', 'being', 'given', 'this', 'position,', 'I’d', 'be', 'the', 'envy', 'of', 'my', 'peers!', 'I', 'would', 'welcome', 'the', 'chance', 'to', 'discuss', 'your', 'current', 'finance', 'and', 'accounting', 'objectives', 'and', 'show', 'you', 'how', 'my', 'successes', 'at', 'APC', 'can', 'translate', 'into', 'cost', 'savings', 'at', 'Lansing.', 'Sincerely,', 'Bob', 'Gray']\n"
     ]
    }
   ],
   "source": [
    "lines = []\n",
    "\n",
    "for word in data.split():\n",
    "    lines.append(word)\n",
    "    \n",
    "print(lines)"
   ]
  },
  {
   "cell_type": "code",
   "execution_count": 50,
   "metadata": {},
   "outputs": [],
   "source": [
    "# Remove all non-alphanumeric characters\n",
    "data = re.sub(r'[^a-zA-Z0-9\\s]', '', data)\n",
    "\n",
    "# Convert all characters to lowercase\n",
    "data = data.lower()\n",
    "\n",
    "# Split the text into words\n",
    "words = data.split()\n",
    "\n",
    "# Create a list of all unique words\n",
    "vocab = list(set(words))\n",
    "\n",
    "# Create a dictionary to store the word counts\n",
    "word_count = {word: words.count(word) for word in vocab}\n",
    "\n",
    "# Create a dictionary to store the transition counts\n",
    "trans_count = {word: {word2: 0 for word2 in vocab} for word in vocab}\n",
    "\n",
    "# Update the transition counts\n",
    "for i in range(len(words)-1):\n",
    "    trans_count[words[i]][words[i+1]] += 1\n",
    "\n",
    "# Convert the transition counts to probabilities\n",
    "for word in trans_count:\n",
    "    total = sum(trans_count[word].values())\n",
    "    for word2 in trans_count[word]:\n",
    "        trans_count[word][word2]/=total"
   ]
  },
  {
   "cell_type": "code",
   "execution_count": 51,
   "metadata": {},
   "outputs": [],
   "source": [
    "# Create a matrix to store the transition probabilities\n",
    "n = len(vocab)\n",
    "P = np.zeros((n, n))\n",
    "\n",
    "# Fill in the matrix with the transition probabilities\n",
    "for i in range(n):\n",
    "    for j in range(n):\n",
    "        P[i,j] = trans_count[vocab[i]][vocab[j]]\n",
    "\n",
    "# Normalize the rows of the matrix\n",
    "for i in range(n):\n",
    "    P[i,:]/=sum(P[i,:])"
   ]
  },
  {
   "cell_type": "code",
   "execution_count": 55,
   "metadata": {},
   "outputs": [
    {
     "name": "stdout",
     "output_type": "stream",
     "text": [
      "i am motivated\n"
     ]
    }
   ],
   "source": [
    "# Choose a random starting word\n",
    "# current_word = np.random.choice(vocab)\n",
    "current_word = 'i'\n",
    "\n",
    "# Generate the new text\n",
    "new_text = current_word\n",
    "for i in range(2):\n",
    "    # Choose the next word based on the current word's probabilities\n",
    "    current_probs = P[vocab.index(current_word),:]\n",
    "    next_word_index = np.random.choice(n, p=current_probs)\n",
    "    next_word = vocab[next_word_index]\n",
    "\n",
    "    # Add the next word to the new text\n",
    "    new_text += ' ' + next_word\n",
    "\n",
    "    # Update the current word\n",
    "    current_word = next_word\n",
    "\n",
    "# Print the new text\n",
    "print(new_text)"
   ]
  }
 ],
 "metadata": {
  "kernelspec": {
   "display_name": "base",
   "language": "python",
   "name": "python3"
  },
  "language_info": {
   "codemirror_mode": {
    "name": "ipython",
    "version": 3
   },
   "file_extension": ".py",
   "mimetype": "text/x-python",
   "name": "python",
   "nbconvert_exporter": "python",
   "pygments_lexer": "ipython3",
   "version": "3.10.9"
  },
  "orig_nbformat": 4
 },
 "nbformat": 4,
 "nbformat_minor": 2
}
