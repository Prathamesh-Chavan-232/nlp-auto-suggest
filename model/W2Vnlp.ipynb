{
 "cells": [
  {
   "attachments": {},
   "cell_type": "markdown",
   "metadata": {},
   "source": [
    "WORK 2 VECTOR"
   ]
  },
  {
   "cell_type": "code",
   "execution_count": 28,
   "metadata": {},
   "outputs": [],
   "source": [
    "data = '''Dear Mr. Charles,\n",
    "\n",
    "I am excited to apply for the Accountant position at Koneko—a company that has been on my radar for some time. As a highly skilled accountant with \n",
    "experience working at Credio, I believe I would be an excellent fit for the role. \n",
    "\n",
    "Throughout my career, I have developed a strong skill set in financial analysis, budgeting &  forecasting, and report preparation. I led the \n",
    "implementation of a new accounting system at Credio, resulting in a 20% increase in efficiency.Additionally, I have experience managing complex \n",
    "financial projects and collaborating with cross-functional teams to achieve business goals.\n",
    "\n",
    "I am motivated to join Koneko because it is an industry leader that significantly commits to innovation. With my experience and skill set, \n",
    "including expertise in tax compliance and financial statement analysis, I believe I can offer valuable contributions to your team. Furthermore,\n",
    "Koneko's focus on sustainability aligns with my personal values, making me even more enthusiastic about the opportunity to work with your organization.\n",
    "\n",
    "I would welcome the opportunity to discuss how my skills and experience could further contribute to Koneko's success.. Please let me know if any other \n",
    "information is required from me or if we can schedule a meeting at your convenience. \n",
    "\n",
    "Sincerely,\n",
    "Carin McDonald\n",
    "\n",
    "\n",
    "\n",
    "\n",
    "\n",
    "Dear Ms. Ortiz,\n",
    "\n",
    "As a highly skilled Accountant, I read your posting for a new Accountant with interest. My experience aligns well with the qualifications you are seeking at Ortiz and Miller Accounting, in particular my role as Senior Accountant, and I am certain I would make a valuable addition to your organization.\n",
    "With more than 10 years’ experience as an Accountant, I am adept in budget forecasting, variance analysis, and reporting. Moreover, while my on-the-job experience has afforded me a well-rounded skill set, including first-rate organizational and communication skills, I excel at:\n",
    "Streamlining processes for improved efficiency and reduced waste.\n",
    "Project future trends with proficient and proactive analysis.\n",
    "Resolving discrepancies promptly and developing ways to prevent future issues.\n",
    "Preparing for audits and working directly with auditors to facilitate process.\n",
    "\n",
    "In addition to my experience and personal qualities, I have a solid educational foundation and a passion for accounting. I am extremely enthusiastic about Ortiz and Miller’s focus on corporate efficiency and would welcome the opportunity to contribute to your continued growth.\n",
    "Please review my attached resume for additional details regarding my expertise and career achievements. I will follow up to request an appointment to discuss how my experience and background meets your needs.\n",
    "Thank you for your time and consideration.\n",
    "\n",
    "Sincerely,\n",
    "Ethan Brown\n",
    "\n",
    "\n",
    "\n",
    "\n",
    "\n",
    "Dear Mr. Bob Gray,\n",
    "\n",
    "As a longtime customer of Lansing’s peerless cloud offerings, I was excited to see the opening for a senior accounting manager. With my experience as an award-winning tax accountant for APC, I know I can use my skill set and knowledge to become a valuable member of the Lansing finance department and team.\n",
    "\n",
    "In my current position with APC, I’ve had many responsibilities and achievements that would serve me well as the senior accounting manager at Lansing. APC offers similar services available to their clients, and this would make it a much shorter learning curve than usual. On top of that, my cost reduction projects there have always been successful winners, and I’m sure that I could garner similar results at Lansing.\n",
    "\n",
    "Obtaining the senior accounting manager position at Lansing would be a dream come true. I’ve long been an admirer of your products, and there’s no company that I’d rather work for. I know, should I be honored with being given this position, I’d be the envy of my peers!\n",
    "\n",
    "I would welcome the chance to discuss your current finance and accounting objectives and show you how my successes at APC can translate into cost savings at Lansing.\n",
    "\n",
    "Sincerely,\n",
    "Bob Gray\n",
    "\n",
    "\n",
    "'''"
   ]
  },
  {
   "cell_type": "code",
   "execution_count": 29,
   "metadata": {},
   "outputs": [],
   "source": [
    "#W2V\n",
    "import pandas as pd\n",
    "# import nltk\n",
    "import string\n",
    "import matplotlib.pyplot as plt\n",
    "from nltk.corpus import stopwords\n",
    "from nltk import word_tokenize\n",
    "from gensim.models import Word2Vec as w2v\n",
    "# from sklearn.decomposition import PCA"
   ]
  },
  {
   "cell_type": "code",
   "execution_count": 30,
   "metadata": {},
   "outputs": [],
   "source": [
    "PATH = 'D:/SEM6/01NLP/PROJECT/NLP2.txt'\n",
    "\n",
    "lines = []\n",
    "\n",
    "with open(PATH, 'r') as f:\n",
    "    for l in f:\n",
    "        lines.append(l)"
   ]
  },
  {
   "cell_type": "code",
   "execution_count": 31,
   "metadata": {},
   "outputs": [
    {
     "name": "stdout",
     "output_type": "stream",
     "text": [
      "['Dear Mr. Charles,\\n', '\\n', 'I am excited to apply for the Accountant position at Koneko—a company that has been on my radar for some time. As a highly skilled accountant with \\n', 'experience working at Credio, I believe I would be an excellent fit for the role. \\n', '\\n', 'Throughout my career, I have developed a strong skill set in financial analysis, budgeting &  forecasting, and report preparation. I led the \\n', 'implementation of a new accounting system at Credio, resulting in a 20% increase in efficiency.Additionally, I have experience managing complex \\n', 'financial projects and collaborating with cross-functional teams to achieve business goals.\\n', '\\n', 'I am motivated to join Koneko because it is an industry leader that significantly commits to innovation. With my experience and skill set, \\n', 'including expertise in tax compliance and financial statement analysis, I believe I can offer valuable contributions to your team. Furthermore,\\n', \"Koneko's focus on sustainability aligns with my personal values, making me even more enthusiastic about the opportunity to work with your organization.\\n\", '\\n', \"I would welcome the opportunity to discuss how my skills and experience could further contribute to Koneko's success.. Please let me know if any other \\n\", 'information is required from me or if we can schedule a meeting at your convenience.\\n', '\\n', 'Sincerely,\\n', 'Carin McDonald\\n', '\\n', 'Dear', 'Mr.', 'Charles,', 'I', 'am', 'excited', 'to', 'apply', 'for', 'the', 'Accountant', 'position', 'at', 'Koneko—a', 'company', 'that', 'has', 'been', 'on', 'my', 'radar', 'for', 'some', 'time.', 'As', 'a', 'highly', 'skilled', 'accountant', 'with', 'experience', 'working', 'at', 'Credio,', 'I', 'believe', 'I', 'would', 'be', 'an', 'excellent', 'fit', 'for', 'the', 'role.', 'Throughout', 'my', 'career,', 'I', 'have', 'developed', 'a', 'strong', 'skill', 'set', 'in', 'financial', 'analysis,', 'budgeting', '&', 'forecasting,', 'and', 'report', 'preparation.', 'I', 'led', 'the', 'implementation', 'of', 'a', 'new', 'accounting', 'system', 'at', 'Credio,', 'resulting', 'in', 'a', '20%', 'increase', 'in', 'efficiency.Additionally,', 'I', 'have', 'experience', 'managing', 'complex', 'financial', 'projects', 'and', 'collaborating', 'with', 'cross-functional', 'teams', 'to', 'achieve', 'business', 'goals.', 'I', 'am', 'motivated', 'to', 'join', 'Koneko', 'because', 'it', 'is', 'an', 'industry', 'leader', 'that', 'significantly', 'commits', 'to', 'innovation.', 'With', 'my', 'experience', 'and', 'skill', 'set,', 'including', 'expertise', 'in', 'tax', 'compliance', 'and', 'financial', 'statement', 'analysis,', 'I', 'believe', 'I', 'can', 'offer', 'valuable', 'contributions', 'to', 'your', 'team.', 'Furthermore,', \"Koneko's\", 'focus', 'on', 'sustainability', 'aligns', 'with', 'my', 'personal', 'values,', 'making', 'me', 'even', 'more', 'enthusiastic', 'about', 'the', 'opportunity', 'to', 'work', 'with', 'your', 'organization.', 'I', 'would', 'welcome', 'the', 'opportunity', 'to', 'discuss', 'how', 'my', 'skills', 'and', 'experience', 'could', 'further', 'contribute', 'to', \"Koneko's\", 'success..', 'Please', 'let', 'me', 'know', 'if', 'any', 'other', 'information', 'is', 'required', 'from', 'me', 'or', 'if', 'we', 'can', 'schedule', 'a', 'meeting', 'at', 'your', 'convenience.', 'Sincerely,', 'Carin', 'McDonald', 'Dear', 'Ms.', 'Ortiz,', 'As', 'a', 'highly', 'skilled', 'Accountant,', 'I', 'read', 'your', 'posting', 'for', 'a', 'new', 'Accountant', 'with', 'interest.', 'My', 'experience', 'aligns', 'well', 'with', 'the', 'qualifications', 'you', 'are', 'seeking', 'at', 'Ortiz', 'and', 'Miller', 'Accounting,', 'in', 'particular', 'my', 'role', 'as', 'Senior', 'Accountant,', 'and', 'I', 'am', 'certain', 'I', 'would', 'make', 'a', 'valuable', 'addition', 'to', 'your', 'organization.', 'With', 'more', 'than', '10', 'years’', 'experience', 'as', 'an', 'Accountant,', 'I', 'am', 'adept', 'in', 'budget', 'forecasting,', 'variance', 'analysis,', 'and', 'reporting.', 'Moreover,', 'while', 'my', 'on-the-job', 'experience', 'has', 'afforded', 'me', 'a', 'well-rounded', 'skill', 'set,', 'including', 'first-rate', 'organizational', 'and', 'communication', 'skills,', 'I', 'excel', 'at:', 'Streamlining', 'processes', 'for', 'improved', 'efficiency', 'and', 'reduced', 'waste.', 'Project', 'future', 'trends', 'with', 'proficient', 'and', 'proactive', 'analysis.', 'Resolving', 'discrepancies', 'promptly', 'and', 'developing', 'ways', 'to', 'prevent', 'future', 'issues.', 'Preparing', 'for', 'audits', 'and', 'working', 'directly', 'with', 'auditors', 'to', 'facilitate', 'process.', 'In', 'addition', 'to', 'my', 'experience', 'and', 'personal', 'qualities,', 'I', 'have', 'a', 'solid', 'educational', 'foundation', 'and', 'a', 'passion', 'for', 'accounting.', 'I', 'am', 'extremely', 'enthusiastic', 'about', 'Ortiz', 'and', 'Miller’s', 'focus', 'on', 'corporate', 'efficiency', 'and', 'would', 'welcome', 'the', 'opportunity', 'to', 'contribute', 'to', 'your', 'continued', 'growth.', 'Please', 'review', 'my', 'attached', 'resume', 'for', 'additional', 'details', 'regarding', 'my', 'expertise', 'and', 'career', 'achievements.', 'I', 'will', 'follow', 'up', 'to', 'request', 'an', 'appointment', 'to', 'discuss', 'how', 'my', 'experience', 'and', 'background', 'meets', 'your', 'needs.', 'Thank', 'you', 'for', 'your', 'time', 'and', 'consideration.', 'Sincerely,', 'Ethan', 'Brown', 'Dear', 'Mr.', 'Bob', 'Gray,', 'As', 'a', 'longtime', 'customer', 'of', 'Lansing’s', 'peerless', 'cloud', 'offerings,', 'I', 'was', 'excited', 'to', 'see', 'the', 'opening', 'for', 'a', 'senior', 'accounting', 'manager.', 'With', 'my', 'experience', 'as', 'an', 'award-winning', 'tax', 'accountant', 'for', 'APC,', 'I', 'know', 'I', 'can', 'use', 'my', 'skill', 'set', 'and', 'knowledge', 'to', 'become', 'a', 'valuable', 'member', 'of', 'the', 'Lansing', 'finance', 'department', 'and', 'team.', 'In', 'my', 'current', 'position', 'with', 'APC,', 'I’ve', 'had', 'many', 'responsibilities', 'and', 'achievements', 'that', 'would', 'serve', 'me', 'well', 'as', 'the', 'senior', 'accounting', 'manager', 'at', 'Lansing.', 'APC', 'offers', 'similar', 'services', 'available', 'to', 'their', 'clients,', 'and', 'this', 'would', 'make', 'it', 'a', 'much', 'shorter', 'learning', 'curve', 'than', 'usual.', 'On', 'top', 'of', 'that,', 'my', 'cost', 'reduction', 'projects', 'there', 'have', 'always', 'been', 'successful', 'winners,', 'and', 'I’m', 'sure', 'that', 'I', 'could', 'garner', 'similar', 'results', 'at', 'Lansing.', 'Obtaining', 'the', 'senior', 'accounting', 'manager', 'position', 'at', 'Lansing', 'would', 'be', 'a', 'dream', 'come', 'true.', 'I’ve', 'long', 'been', 'an', 'admirer', 'of', 'your', 'products,', 'and', 'there’s', 'no', 'company', 'that', 'I’d', 'rather', 'work', 'for.', 'I', 'know,', 'should', 'I', 'be', 'honored', 'with', 'being', 'given', 'this', 'position,', 'I’d', 'be', 'the', 'envy', 'of', 'my', 'peers!', 'I', 'would', 'welcome', 'the', 'chance', 'to', 'discuss', 'your', 'current', 'finance', 'and', 'accounting', 'objectives', 'and', 'show', 'you', 'how', 'my', 'successes', 'at', 'APC', 'can', 'translate', 'into', 'cost', 'savings', 'at', 'Lansing.', 'Sincerely,', 'Bob', 'Gray']\n"
     ]
    }
   ],
   "source": [
    "for word in data.split():\n",
    "    lines.append(word)\n",
    "    \n",
    "print(lines)"
   ]
  },
  {
   "cell_type": "code",
   "execution_count": 32,
   "metadata": {},
   "outputs": [
    {
     "name": "stdout",
     "output_type": "stream",
     "text": [
      "[['dear', 'mr', 'charles'], [], ['excited', 'apply', 'accountant', 'position', 'koneko—a', 'company', 'radar', 'time', 'highly', 'skilled', 'accountant'], ['experience', 'working', 'credio', 'believe', 'would', 'excellent', 'fit', 'role'], [], ['throughout', 'career', 'developed', 'strong', 'skill', 'set', 'financial', 'analysis', 'budgeting', 'forecasting', 'report', 'preparation', 'led'], ['implementation', 'new', 'accounting', 'system', 'credio', 'resulting', '20', 'increase', 'efficiencyadditionally', 'experience', 'managing', 'complex'], ['financial', 'projects', 'collaborating', 'crossfunctional', 'teams', 'achieve', 'business', 'goals'], [], ['motivated', 'join', 'koneko', 'industry', 'leader', 'significantly', 'commits', 'innovation', 'experience', 'skill', 'set'], ['including', 'expertise', 'tax', 'compliance', 'financial', 'statement', 'analysis', 'believe', 'offer', 'valuable', 'contributions', 'team', 'furthermore'], ['konekos', 'focus', 'sustainability', 'aligns', 'personal', 'values', 'making', 'even', 'enthusiastic', 'opportunity', 'work', 'organization'], [], ['would', 'welcome', 'opportunity', 'discuss', 'skills', 'experience', 'could', 'contribute', 'konekos', 'success', 'please', 'let', 'know'], ['information', 'required', 'schedule', 'meeting', 'convenience'], [], ['sincerely'], ['carin', 'mcdonald'], [], ['dear'], ['mr'], ['charles'], ['i'], ['am'], ['excited'], ['to'], ['apply'], ['for'], ['the'], ['accountant'], ['position'], ['at'], ['koneko—a'], ['company'], ['that'], ['has'], ['been'], ['on'], ['my'], ['radar'], ['for'], ['some'], ['time'], ['as'], ['a'], ['highly'], ['skilled'], ['accountant'], ['with'], ['experience'], ['working'], ['at'], ['credio'], ['i'], ['believe'], ['i'], ['would'], ['be'], ['an'], ['excellent'], ['fit'], ['for'], ['the'], ['role'], ['throughout'], ['my'], ['career'], ['i'], ['have'], ['developed'], ['a'], ['strong'], ['skill'], ['set'], ['in'], ['financial'], ['analysis'], ['budgeting'], [], ['forecasting'], ['and'], ['report'], ['preparation'], ['i'], ['led'], ['the'], ['implementation'], ['of'], ['a'], ['new'], ['accounting'], ['system'], ['at'], ['credio'], ['resulting'], ['in'], ['a'], ['20'], ['increase'], ['in'], ['efficiencyadditionally'], ['i'], ['have'], ['experience'], ['managing'], ['complex'], ['financial'], ['projects'], ['and'], ['collaborating'], ['with'], ['crossfunctional'], ['teams'], ['to'], ['achieve'], ['business'], ['goals'], ['i'], ['am'], ['motivated'], ['to'], ['join'], ['koneko'], ['because'], ['it'], ['is'], ['an'], ['industry'], ['leader'], ['that'], ['significantly'], ['commits'], ['to'], ['innovation'], ['with'], ['my'], ['experience'], ['and'], ['skill'], ['set'], ['including'], ['expertise'], ['in'], ['tax'], ['compliance'], ['and'], ['financial'], ['statement'], ['analysis'], ['i'], ['believe'], ['i'], ['can'], ['offer'], ['valuable'], ['contributions'], ['to'], ['your'], ['team'], ['furthermore'], ['konekos'], ['focus'], ['on'], ['sustainability'], ['aligns'], ['with'], ['my'], ['personal'], ['values'], ['making'], ['me'], ['even'], ['more'], ['enthusiastic'], ['about'], ['the'], ['opportunity'], ['to'], ['work'], ['with'], ['your'], ['organization'], ['i'], ['would'], ['welcome'], ['the'], ['opportunity'], ['to'], ['discuss'], ['how'], ['my'], ['skills'], ['and'], ['experience'], ['could'], ['further'], ['contribute'], ['to'], ['konekos'], ['success'], ['please'], ['let'], ['me'], ['know'], ['if'], ['any'], ['other'], ['information'], ['is'], ['required'], ['from'], ['me'], ['or'], ['if'], ['we'], ['can'], ['schedule'], ['a'], ['meeting'], ['at'], ['your'], ['convenience'], ['sincerely'], ['carin'], ['mcdonald'], ['dear'], ['ms'], ['ortiz'], ['as'], ['a'], ['highly'], ['skilled'], ['accountant'], ['i'], ['read'], ['your'], ['posting'], ['for'], ['a'], ['new'], ['accountant'], ['with'], ['interest'], ['my'], ['experience'], ['aligns'], ['well'], ['with'], ['the'], ['qualifications'], ['you'], ['are'], ['seeking'], ['at'], ['ortiz'], ['and'], ['miller'], ['accounting'], ['in'], ['particular'], ['my'], ['role'], ['as'], ['senior'], ['accountant'], ['and'], ['i'], ['am'], ['certain'], ['i'], ['would'], ['make'], ['a'], ['valuable'], ['addition'], ['to'], ['your'], ['organization'], ['with'], ['more'], ['than'], ['10'], ['years', '’'], ['experience'], ['as'], ['an'], ['accountant'], ['i'], ['am'], ['adept'], ['in'], ['budget'], ['forecasting'], ['variance'], ['analysis'], ['and'], ['reporting'], ['moreover'], ['while'], ['my'], ['onthejob'], ['experience'], ['has'], ['afforded'], ['me'], ['a'], ['wellrounded'], ['skill'], ['set'], ['including'], ['firstrate'], ['organizational'], ['and'], ['communication'], ['skills'], ['i'], ['excel'], ['at'], ['streamlining'], ['processes'], ['for'], ['improved'], ['efficiency'], ['and'], ['reduced'], ['waste'], ['project'], ['future'], ['trends'], ['with'], ['proficient'], ['and'], ['proactive'], ['analysis'], ['resolving'], ['discrepancies'], ['promptly'], ['and'], ['developing'], ['ways'], ['to'], ['prevent'], ['future'], ['issues'], ['preparing'], ['for'], ['audits'], ['and'], ['working'], ['directly'], ['with'], ['auditors'], ['to'], ['facilitate'], ['process'], ['in'], ['addition'], ['to'], ['my'], ['experience'], ['and'], ['personal'], ['qualities'], ['i'], ['have'], ['a'], ['solid'], ['educational'], ['foundation'], ['and'], ['a'], ['passion'], ['for'], ['accounting'], ['i'], ['am'], ['extremely'], ['enthusiastic'], ['about'], ['ortiz'], ['and'], ['miller', '’'], ['focus'], ['on'], ['corporate'], ['efficiency'], ['and'], ['would'], ['welcome'], ['the'], ['opportunity'], ['to'], ['contribute'], ['to'], ['your'], ['continued'], ['growth'], ['please'], ['review'], ['my'], ['attached'], ['resume'], ['for'], ['additional'], ['details'], ['regarding'], ['my'], ['expertise'], ['and'], ['career'], ['achievements'], ['i'], ['will'], ['follow'], ['up'], ['to'], ['request'], ['an'], ['appointment'], ['to'], ['discuss'], ['how'], ['my'], ['experience'], ['and'], ['background'], ['meets'], ['your'], ['needs'], ['thank'], ['you'], ['for'], ['your'], ['time'], ['and'], ['consideration'], ['sincerely'], ['ethan'], ['brown'], ['dear'], ['mr'], ['bob'], ['gray'], ['as'], ['a'], ['longtime'], ['customer'], ['of'], ['lansing', '’'], ['peerless'], ['cloud'], ['offerings'], ['i'], ['was'], ['excited'], ['to'], ['see'], ['the'], ['opening'], ['for'], ['a'], ['senior'], ['accounting'], ['manager'], ['with'], ['my'], ['experience'], ['as'], ['an'], ['awardwinning'], ['tax'], ['accountant'], ['for'], ['apc'], ['i'], ['know'], ['i'], ['can'], ['use'], ['my'], ['skill'], ['set'], ['and'], ['knowledge'], ['to'], ['become'], ['a'], ['valuable'], ['member'], ['of'], ['the'], ['lansing'], ['finance'], ['department'], ['and'], ['team'], ['in'], ['my'], ['current'], ['position'], ['with'], ['apc'], ['’'], ['had'], ['many'], ['responsibilities'], ['and'], ['achievements'], ['that'], ['would'], ['serve'], ['me'], ['well'], ['as'], ['the'], ['senior'], ['accounting'], ['manager'], ['at'], ['lansing'], ['apc'], ['offers'], ['similar'], ['services'], ['available'], ['to'], ['their'], ['clients'], ['and'], ['this'], ['would'], ['make'], ['it'], ['a'], ['much'], ['shorter'], ['learning'], ['curve'], ['than'], ['usual'], ['on'], ['top'], ['of'], ['that'], ['my'], ['cost'], ['reduction'], ['projects'], ['there'], ['have'], ['always'], ['been'], ['successful'], ['winners'], ['and'], ['’'], ['sure'], ['that'], ['i'], ['could'], ['garner'], ['similar'], ['results'], ['at'], ['lansing'], ['obtaining'], ['the'], ['senior'], ['accounting'], ['manager'], ['position'], ['at'], ['lansing'], ['would'], ['be'], ['a'], ['dream'], ['come'], ['true'], ['’'], ['long'], ['been'], ['an'], ['admirer'], ['of'], ['your'], ['products'], ['and'], ['’'], ['no'], ['company'], ['that'], ['’'], ['rather'], ['work'], ['for'], ['i'], ['know'], ['should'], ['i'], ['be'], ['honored'], ['with'], ['being'], ['given'], ['this'], ['position'], ['’'], ['be'], ['the'], ['envy'], ['of'], ['my'], ['peers'], ['i'], ['would'], ['welcome'], ['the'], ['chance'], ['to'], ['discuss'], ['your'], ['current'], ['finance'], ['and'], ['accounting'], ['objectives'], ['and'], ['show'], ['you'], ['how'], ['my'], ['successes'], ['at'], ['apc'], ['can'], ['translate'], ['into'], ['cost'], ['savings'], ['at'], ['lansing'], ['sincerely'], ['bob'], ['gray']]\n"
     ]
    }
   ],
   "source": [
    "sw = stopwords.words('english')\n",
    "# plt.style.use('ggplot')\n",
    "\n",
    "\n",
    "lines = [line.rstrip('\\n') for line in lines]\n",
    "lines = [line.lower() for line in lines]\n",
    "\n",
    "# remove punctuations from each line\n",
    "lines = [line.translate(str.maketrans('', '', string.punctuation)) for line in lines]\n",
    "\n",
    "# tokenize\n",
    "lines = [word_tokenize(line) for line in lines]\n",
    "\n",
    "def remove_stopwords(lines, sw = sw):\n",
    "    res = []\n",
    "    for line in lines:\n",
    "        original = line\n",
    "        line = [w for w in line if w not in sw]\n",
    "        if len(line) < 1:\n",
    "            line = original\n",
    "        res.append(line)\n",
    "    return res\n",
    "    \n",
    "filtered_lines = remove_stopwords(lines = lines, sw = sw)\n",
    "print(filtered_lines)"
   ]
  },
  {
   "cell_type": "code",
   "execution_count": 39,
   "metadata": {},
   "outputs": [
    {
     "name": "stdout",
     "output_type": "stream",
     "text": [
      "[('team', 0.30807197093963623), ('projects', 0.27966591715812683), ('enthusiastic', 0.19105398654937744), ('aligns', 0.180710569024086), ('your', 0.1671026647090912), ('believe', 0.1631985306739807), ('a', 0.1388409584760666), ('my', 0.1312149316072464), ('could', 0.13034091889858246), ('be', 0.11593959480524063)]\n"
     ]
    }
   ],
   "source": [
    "# Word to vec\n",
    "v = w2v()\n",
    "w = w2v(\n",
    "    filtered_lines,\n",
    "    min_count=3,  \n",
    "    sg = 1,       \n",
    "    window=2      \n",
    ") \n",
    "print(w.wv.most_similar('experience'))\n"
   ]
  },
  {
   "cell_type": "code",
   "execution_count": 40,
   "metadata": {},
   "outputs": [
    {
     "data": {
      "text/plain": [
       "[('team', 0.30807197093963623),\n",
       " ('projects', 0.27966591715812683),\n",
       " ('enthusiastic', 0.19105398654937744),\n",
       " ('aligns', 0.180710569024086),\n",
       " ('your', 0.1671026647090912),\n",
       " ('believe', 0.1631985306739807),\n",
       " ('a', 0.1388409584760666),\n",
       " ('my', 0.1312149316072464),\n",
       " ('could', 0.13034091889858246),\n",
       " ('be', 0.11593959480524063)]"
      ]
     },
     "execution_count": 40,
     "metadata": {},
     "output_type": "execute_result"
    }
   ],
   "source": [
    "w.wv.most_similar('experience')"
   ]
  }
 ],
 "metadata": {
  "kernelspec": {
   "display_name": "base",
   "language": "python",
   "name": "python3"
  },
  "language_info": {
   "codemirror_mode": {
    "name": "ipython",
    "version": 3
   },
   "file_extension": ".py",
   "mimetype": "text/x-python",
   "name": "python",
   "nbconvert_exporter": "python",
   "pygments_lexer": "ipython3",
   "version": "3.10.9"
  },
  "orig_nbformat": 4
 },
 "nbformat": 4,
 "nbformat_minor": 2
}
